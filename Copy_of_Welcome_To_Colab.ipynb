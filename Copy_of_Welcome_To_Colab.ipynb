{
  "cells": [
    {
      "cell_type": "markdown",
      "metadata": {
        "id": "view-in-github",
        "colab_type": "text"
      },
      "source": [
        "<a href=\"https://colab.research.google.com/github/Snehasis2004/Neuromorphic-computing/blob/main/Copy_of_Welcome_To_Colab.ipynb\" target=\"_parent\"><img src=\"https://colab.research.google.com/assets/colab-badge.svg\" alt=\"Open In Colab\"/></a>"
      ]
    },
    {
      "cell_type": "code",
      "source": [
        "import matplotlib.pyplot as plt\n",
        "import numpy as np\n",
        "t=0\n",
        "dt=.1\n",
        "v=-55\n",
        "u=0\n",
        "v_t=30\n",
        "a=.025\n",
        "b=3\n",
        "c=-65\n",
        "d=8\n",
        "\n",
        "\n",
        "vs=[]\n",
        "spike_time=[]\n",
        "\n",
        "while t<70:\n",
        "  vs.append(v)\n",
        "  dv=(.04*v**2)+(5*v)+140-u\n",
        "  du=a*((b*v)-u)\n",
        "  if t<7 and t>0:\n",
        "    v+=10\n",
        "  else:\n",
        "    v+=3\n",
        "  v+=dv*dt\n",
        "  u+=du*dt\n",
        "  if v>=v_t:\n",
        "    v=c\n",
        "    u+=d\n",
        "  t+=dt\n",
        "\n",
        "plt.plot(vs)\n",
        "plt.show()\n",
        "\n",
        "\n",
        "\n",
        "\n",
        "\n",
        "\n",
        "\n",
        "\n",
        "\n",
        "\n",
        "\n"
      ],
      "metadata": {
        "id": "IwdfbS8wJhQF"
      },
      "execution_count": null,
      "outputs": []
    }
  ],
  "metadata": {
    "colab": {
      "toc_visible": true,
      "provenance": [],
      "include_colab_link": true
    },
    "kernelspec": {
      "display_name": "Python 3",
      "name": "python3"
    }
  },
  "nbformat": 4,
  "nbformat_minor": 0
}